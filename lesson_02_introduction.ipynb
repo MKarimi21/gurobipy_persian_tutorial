{
 "cells": [
  {
   "cell_type": "markdown",
   "id": "610586b4",
   "metadata": {},
   "source": [
    "<h2 style=\"text-align:center; font-family:Vazirmatn;\">\n",
    "    مدل سازی ریاضی در پایتون با استفاده از کتابخانه گروبی\n",
    "</h2>\n",
    "<br><br>\n",
    "\n",
    "\n",
    "<div dir=\"center\" style=\"font-family:Vazirmatn;\">\n",
    "<h4 style=\"text-align:rtl;\">\n",
    "    کار با Either-Or و\n",
    "<br>\n",
    "    «جلسه دوم»\n",
    "</h4>\n",
    "</div>"
   ]
  },
  {
   "cell_type": "markdown",
   "id": "e024cf48",
   "metadata": {},
   "source": [
    "<div dir=\"rtl\" style=\"font-family:Vazirmatn; font-weight:300\">\n",
    "    <h3 >مساله استفاده از اندیس ها و روابط خاص و فانکشن داشتن؛</h3>\n",
    "    <br>\n",
    "مدل زیر با در نظر گرفتن محدودیت های زیر فرموله شده است\n",
    "</div>\n",
    "\n",
    "\n",
    "$$Either-Or$$\n",
    "\n",
    "$maxZ = 3x_1 + 3f(x_2) + 2x_3 + 3g(x_4)$\n",
    "\n",
    "$st:$\n",
    "\n",
    "$2x_1 - x_2 + x_3 + 3x_4 \\leq 15$\n",
    "\n",
    "$x_1 + x_2 + x_3 + x_4 \\leq 4$  $3x_1 - x_2 - x_3 + x_4 \\leq 3$   &emsp;&emsp;&emsp;&emsp;&emsp; <span style=\"font-family:Vazirmatn;\"> حداقل یکی از دو محدودیت برقرار باشد </span>\n",
    "\n",
    "\n",
    "&emsp;&emsp;&emsp;&emsp;&emsp; <span style=\"font-family:Vazirmatn;\"> حداقل دو محدودیت از محدودیت های زیر برقرار شود </span>\n",
    "\n",
    "$5x_1 + 3x_2 + 3x_3 - 2x_4 \\leq 10 $\n",
    "\n",
    "$2x_1 + 5x_2 - 2x_3 + 3x_4 \\leq 10 $\n",
    "\n",
    "$-2x_1 + 3x_2 + 5x_3 + 3x_4 \\leq 10 $\n",
    "\n",
    "$3x_1 - 2x_2 + 3x_3 + 5x_4 \\leq 10 $\n",
    "\n",
    "&emsp;&emsp;&emsp;&emsp;&emsp; <span style=\"font-family:Vazirmatn;\"> مقدار متغیر سوم برابر یک، دو یا سه شود </span>\n",
    "\n",
    "$f(x_2) = \\:  -5 + 3x_2 \\:\\:\\:\\:\\:\\:    if \\: x_2 \\geq 0 \\:\\:\\:\\:\\:\\:\\:    or   \\:\\:\\:\\:\\:\\: 0 \\:\\:\\:\\:\\:\\:     if \\: x_2 = 0 $\n",
    "\n",
    "$g(x_2) = \\: -5 + 3x_2 \\:\\:\\:\\:\\:\\:     if \\: x_4 \\geq 0 \\:\\:\\:\\:\\:\\:\\:    or    \\:\\:\\:\\:\\:\\: 0 \\:\\:\\:\\:\\:\\:    if \\: x_4 = 0 $\n",
    "\n"
   ]
  },
  {
   "cell_type": "code",
   "execution_count": null,
   "id": "d011b053",
   "metadata": {},
   "outputs": [],
   "source": []
  }
 ],
 "metadata": {
  "kernelspec": {
   "display_name": "Python 3 (ipykernel)",
   "language": "python",
   "name": "python3"
  },
  "language_info": {
   "codemirror_mode": {
    "name": "ipython",
    "version": 3
   },
   "file_extension": ".py",
   "mimetype": "text/x-python",
   "name": "python",
   "nbconvert_exporter": "python",
   "pygments_lexer": "ipython3",
   "version": "3.9.10"
  }
 },
 "nbformat": 4,
 "nbformat_minor": 5
}
