{
 "cells": [
  {
   "cell_type": "markdown",
   "id": "caa4407c",
   "metadata": {},
   "source": [
    "<h2 style=\"text-align:center; font-family:Vazirmatn;\">\n",
    "    مدل سازی ریاضی در پایتون با استفاده از کتابخانه گروبی\n",
    "</h2>\n",
    "<br>\n"
   ]
  },
  {
   "cell_type": "markdown",
   "id": "afc0457f",
   "metadata": {},
   "source": [
    "<div dir=\"rtl\" style=\"font-family:Vazirmatn; font-weight:300\">\n",
    "    <h3 >نصب گروبی</h3>\n",
    "    <br>\n",
    "   می توان با ایمیل دانشگاهی ترجیحا ایرانی نه! ولی برای وریفای کردن لایسنس نیاز به آی پی دانشگاهی هست که ژاپن معمولا راحت تره\n",
    "    <br>\n",
    "    خود گروبی هم تو پایتون بجز اینکه خود اپلیکیشن یا ترمینالشو یا optimizer نصب کردید کتابخونه اش رو نصب کنید.\n",
    "</div>\n",
    "\n",
    "``` python\n",
    "pip install gurobipy\n",
    "```\n",
    "\n",
    "or\n",
    "\n",
    "``` python\n",
    "python -m pip install gurobipy\n",
    "```"
   ]
  },
  {
   "cell_type": "code",
   "execution_count": 1,
   "id": "02d09324",
   "metadata": {},
   "outputs": [
    {
     "name": "stdout",
     "output_type": "stream",
     "text": [
      "Set parameter Username\n",
      "Academic license - for non-commercial use only - expires 2023-10-21\n",
      "Gurobi Optimizer version 9.5.2 build v9.5.2rc0 (win64)\n",
      "Thread count: 2 physical cores, 4 logical processors, using up to 4 threads\n",
      "Optimize a model with 0 rows, 0 columns and 0 nonzeros\n",
      "Model fingerprint: 0xf9715da1\n",
      "Coefficient statistics:\n",
      "  Matrix range     [0e+00, 0e+00]\n",
      "  Objective range  [0e+00, 0e+00]\n",
      "  Bounds range     [0e+00, 0e+00]\n",
      "  RHS range        [0e+00, 0e+00]\n",
      "Presolve time: 0.04s\n",
      "Presolve: All rows and columns removed\n",
      "Iteration    Objective       Primal Inf.    Dual Inf.      Time\n",
      "       0    0.0000000e+00   0.000000e+00   0.000000e+00      0s\n",
      "\n",
      "Solved in 0 iterations and 0.05 seconds (0.00 work units)\n",
      "Optimal objective  0.000000000e+00\n",
      "None\n"
     ]
    }
   ],
   "source": [
    "import gurobipy as gp\n",
    "\n",
    "m = gp.Model()\n",
    "\n",
    "print(f\"{m.optimize()}\")"
   ]
  },
  {
   "cell_type": "code",
   "execution_count": 7,
   "id": "c3b235c4",
   "metadata": {},
   "outputs": [
    {
     "name": "stdout",
     "output_type": "stream",
     "text": [
      "Gurobi Optimizer version 9.5.2 build v9.5.2rc0 (win64)\n",
      "Copyright (c) 2022, Gurobi Optimization, LLC\n"
     ]
    }
   ],
   "source": [
    "!gurobi_cl --version"
   ]
  },
  {
   "cell_type": "code",
   "execution_count": 5,
   "id": "69585ad9",
   "metadata": {},
   "outputs": [
    {
     "name": "stdout",
     "output_type": "stream",
     "text": [
      "Python 3.9.10\n"
     ]
    }
   ],
   "source": [
    "!python --version"
   ]
  },
  {
   "cell_type": "markdown",
   "id": "eb5811f3",
   "metadata": {},
   "source": [
    "<div dir=\"rtl\" style=\"font-family:Vazirmatn; font-weight:300\">\n",
    "    <h3 >برای کد کردن مدل ریاضی؛</h3>\n",
    "    <br>\n",
    "    1. ابتدا براساس ساختمان داده، پارامترهای مساله را وارد می کنیم. اولویت با آرایه و سپس تاپل هست البته با دانش ظرفیت آرایه ها \n",
    "    <br>\n",
    "    2. متغیرهای تصمیم را وارد می کنیم.\n",
    "    <br>\n",
    "    3. محدودیت یا تابع هدف فرقی ندارد هردو را وارد می کنیم.\n",
    "</div>"
   ]
  },
  {
   "cell_type": "markdown",
   "id": "0559fcd3",
   "metadata": {},
   "source": [
    "<div dir=\"rtl\" style=\"font-family:Vazirmatn; font-weight:300\">\n",
    "    <h3 >مرحله اول مدلسازی؛</h3>\n",
    "    <br>\n",
    "   1. اولین چیزی که باید وارد کنیم ایجاد یک <b>شی</b> است.\n",
    "</div>\n",
    "\n",
    "``` python\n",
    "import gurobipy as gp\n",
    "\n",
    "m = gp.Model(\"simple LP\")\n",
    "```"
   ]
  },
  {
   "cell_type": "markdown",
   "id": "40e195ec",
   "metadata": {},
   "source": [
    "<div dir=\"rtl\" style=\"font-family:Vazirmatn; font-weight:300\">\n",
    "    <h3 >مرحله دوم مدلسازی؛</h3>\n",
    "    <br>\n",
    "   1. ایجاد آرگومان های: <b>addVar()</b>\n",
    "    <br>\n",
    "    1.1. <b>vtype:</b> نوع متغیر را تعریف می کند (پیوسته، صفر و یک، عدد صحیح)\n",
    "    <br>\n",
    "    1.2. <b>lb / ub: </b> حد پایین و بالا تعریف میشه که اگر حد بالا گذاشته نشه بی نهایت و پایین گذاشته نشه صفر در نظر گرفته می شه\n",
    "    <br>\n",
    "    1.3. <b>obj:</b> ضرایب تایع هدف را برای هر اندیس متغیر دریافت می کند\n",
    "    <br>\n",
    "    1.4. <b>name:</b> اسم متغیر را دریافت می کند.\n",
    "</div>\n",
    "\n",
    "``` python\n",
    "from gurobipy import GRB\n",
    "\n",
    "x = m.addVar(vtype=GRB.CONTINUOUS, lb=0, name=\"Prod_1\")\n",
    "```"
   ]
  },
  {
   "cell_type": "markdown",
   "id": "9071b48a",
   "metadata": {},
   "source": [
    "<div dir=\"rtl\" style=\"font-family:Vazirmatn; font-weight:300\">\n",
    "    <h3 >مرحله سوم مدلسازی؛</h3>\n",
    "    <br>\n",
    "   1. ایجاد محدودیت های: <b>addConstr()</b>\n",
    "    <br>\n",
    "    1.1. <b>name:</b> اسم محدودیت را دریافت می کند.\n",
    "</div>\n",
    "\n",
    "<div dir=\"rtl\" style=\"font-family:Vazirmatn; font-weight:300\">\n",
    "    <b>نکته:</b> محدودیت باید به صورت عبارت جبری یک طرفه باشه نه دو طرفه.\n",
    "</div>\n",
    "\n",
    "``` python\n",
    "\n",
    "m.addConstr(9*x + 3*y <= 200, name=\"const_1\")\n",
    "```"
   ]
  },
  {
   "cell_type": "markdown",
   "id": "38147fe0",
   "metadata": {},
   "source": [
    "<div dir=\"rtl\" style=\"font-family:Vazirmatn; font-weight:300\">\n",
    "    <h3 >مرحله چهارم مدلسازی؛</h3>\n",
    "    <br>\n",
    "   1. ایجاد تابع هدف: <b>setObjective()</b>\n",
    "    <br>\n",
    "    1.1. <b>sence:</b> نوع تابع هدف تعیین میشه\n",
    "</div>\n",
    "\n",
    "<div dir=\"rtl\" style=\"font-family:Vazirmatn; font-weight:300\">\n",
    "    <b>نکته:</b> تابع هدف باید به صورت یک عبارت جبری بدون علایم &gt; = &lt; نوشته بشه\n",
    "</div>\n",
    "\n",
    "``` python\n",
    "# GRB.MAXIMIZE or GRB.MINIMIZE\n",
    "    \n",
    "m.setObjective(9*x + 3*y , GRB.MAXIMIZE)\n",
    "```"
   ]
  },
  {
   "cell_type": "markdown",
   "id": "1ba204d4",
   "metadata": {},
   "source": [
    "### Start Simple Code: \n",
    "#### (python == 3.9.1, gurobipy == 10.0.0)"
   ]
  },
  {
   "cell_type": "code",
   "execution_count": 2,
   "id": "edd4dda4",
   "metadata": {},
   "outputs": [
    {
     "name": "stdout",
     "output_type": "stream",
     "text": [
      "Gurobi Optimizer version 9.5.2 build v9.5.2rc0 (win64)\n",
      "Thread count: 2 physical cores, 4 logical processors, using up to 4 threads\n",
      "Optimize a model with 2 rows, 3 columns and 5 nonzeros\n",
      "Model fingerprint: 0x2c7bd846\n",
      "Variable types: 0 continuous, 3 integer (0 binary)\n",
      "Coefficient statistics:\n",
      "  Matrix range     [1e+00, 3e+00]\n",
      "  Objective range  [1e+00, 2e+00]\n",
      "  Bounds range     [0e+00, 0e+00]\n",
      "  RHS range        [1e+00, 4e+00]\n",
      "Presolve removed 2 rows and 3 columns\n",
      "Presolve time: 0.00s\n",
      "Presolve: All rows and columns removed\n",
      "\n",
      "Explored 0 nodes (0 simplex iterations) in 0.02 seconds (0.00 work units)\n",
      "Thread count was 1 (of 4 available processors)\n",
      "\n",
      "Solution count 1: 4 \n",
      "\n",
      "Optimal solution found (tolerance 1.00e-04)\n",
      "Best objective 4.000000000000e+00, best bound 4.000000000000e+00, gap 0.0000%\n"
     ]
    }
   ],
   "source": [
    "#!/usr/bin/python3\n",
    "# -*- coding: utf-8 -*-\n",
    "\n",
    "import gurobipy as gp\n",
    "from gurobipy import GRB\n",
    "\n",
    "m = gp.Model(\"simple LP\")\n",
    "\n",
    "x = m.addVar(vtype = GRB.INTEGER, lb = 0, name = 'x')\n",
    "y = m.addVar(vtype = GRB.INTEGER, lb = 0, name = 'y')\n",
    "z = m.addVar(vtype = GRB.INTEGER, lb = 0, name = 'z')\n",
    "\n",
    "m.setObjective(x + y + 2*z, GRB.MAXIMIZE)\n",
    "\n",
    "m.addConstr(x + 2*y + 3*z <= 4)\n",
    "m.addConstr(x + y >= 1)\n",
    "\n",
    "m.optimize()"
   ]
  },
  {
   "cell_type": "code",
   "execution_count": 25,
   "id": "758b1c84",
   "metadata": {},
   "outputs": [
    {
     "name": "stdout",
     "output_type": "stream",
     "text": [
      "0 <gurobi.Var x (value 4.0)>\n",
      "1 <gurobi.Var y (value -0.0)>\n",
      "2 <gurobi.Var z (value 0.0)>\n"
     ]
    }
   ],
   "source": [
    "for var in range(len(m.getVars())):\n",
    "    print(var, m.getVars()[var])"
   ]
  },
  {
   "cell_type": "code",
   "execution_count": 23,
   "id": "52260ec9",
   "metadata": {},
   "outputs": [
    {
     "name": "stdout",
     "output_type": "stream",
     "text": [
      "<gurobi.Var x (value 4.0)>\n"
     ]
    }
   ],
   "source": [
    "print(m.getVars()[0])"
   ]
  },
  {
   "cell_type": "markdown",
   "id": "fe15b56d",
   "metadata": {},
   "source": [
    "<div dir=\"rtl\" style=\"font-family:Vazirmatn; font-weight:300\">\n",
    "    <h3 >مساله سیاست وام دهی بانک؛</h3>\n",
    "    <br>\n",
    "       بانکی می خواهد سیاست وام دهی خود را تعیین کند. کل پول موجود جهت وام دادن 12 میلیون دلار است. جدول زیر وام ها و سود حاصل از آن ها را نشان می دهد:\n",
    "</div>\n",
    "\n",
    "\n",
    "| نرخ سود | نوع وام |\n",
    "| :---------: | :---------: |\n",
    "| 0.14 | شخصی |\n",
    "| 0.13 | خرید خودرو |\n",
    "| 0.12 | ساختمان | \n",
    "| 0.125 | زراعت |\n",
    "| 0.10 | تجاری |\n",
    "\n",
    "\n",
    "$$ [\\alpha  ] * [\\beta  ] = [\\gamma ] $$\n",
    "\n",
    "\n",
    "<div dir=\"rtl\" style=\"font-family:Vazirmatn; font-weight:300\">\n",
    "    <h5 >استفاده از ماتریس ها برای حل مساله؛</h5>\n",
    "    <br>\n",
    "    با توجه به رقابت با سایر سازمان های مالی، بانک باید حداقل 40 درصد از سرمایه خود را به وام های زراعی و تجاری تخصیص دهد. همچنین برای کمک به صنعت ساختمان وام تخصیصی به آن ها باید حداقل 50 درصد از مجموع وام ها به بخش خصوصی، خودرو و ساختمان باشد. هدف بانک، ماکزیمم کردن سود حاصل از وام است.\n",
    "</div>\n",
    "\n",
    "| $x_5$ | $x_4$ | $x_3$ | $x_2$ | $x_1$ | \n",
    "|:---:|:---:|:---:|:---:|:---:|\n",
    "| تجاری | زراعت | ساختمان | خودرو | شخصی |\n",
    "\n",
    "$maxZ = 0.14x_1 + 013x_2 + 0.12x_3 + 0.125x_4 + 0.1x_5$\n",
    "\n",
    "$st:$\n",
    "\n",
    "$x_1+x_2+x_3+x_4+x_5 \\leq 12$   &emsp;&emsp;&emsp;&emsp;&emsp; <span style=\"font-family:Vazirmatn;\"> محدودیت مربوط به سرمایه </span>\n",
    "\n",
    "$x_4+x_5 \\geq 12*0.4$  &emsp;&emsp;&emsp;&emsp;&emsp; <span style=\"font-family:Vazirmatn;\"> محدودیت مربوط به زراعت و تجارت </span>\n",
    "\n",
    "$(x_1+x_2+x_3)*0.5 \\leq x_3$  &emsp;&emsp;&emsp;&emsp;&emsp; <span style=\"font-family:Vazirmatn;\"> محدودیت مربوط به ساختمان </span>\n",
    "\n",
    "$x_i \\geq 0 \\& i=\\{1,...5\\}$"
   ]
  },
  {
   "cell_type": "markdown",
   "id": "17ad5b20",
   "metadata": {},
   "source": [
    "<div dir=\"rtl\" style=\"font-family:Vazirmatn; font-weight:300\">\n",
    "    <h3 >حل مساله با ماتریس ها؛</h3>\n",
    "    <br>\n",
    "   1. ایجاد آرگومان های: <b>addMVar()</b>\n",
    "    <br>\n",
    "    1.1. <b>shape:</b> ابعاد ماتریس متغیر تصمیم را تعیین می کند\n",
    "    <br>\n",
    "    1.2. <b>vtype:</b> نوع متغیر را تعریف می کند (پیوسته، صفر و یک، عدد صحیح)\n",
    "    <br>\n",
    "    1.3. <b>lb / ub: </b> حد پایین و بالا تعریف میشه که اگر حد بالا گذاشته نشه بی نهایت و پایین گذاشته نشه صفر در نظر گرفته می شه\n",
    "    <br>\n",
    "    1.4. <b>obj:</b> ضرایب تایع هدف را برای هر اندیس متغیر دریافت می کند\n",
    "    <br>\n",
    "    1.5. <b>name:</b> اسم متغیر را دریافت می کند.\n",
    "</div>\n",
    "\n",
    "\n",
    "``` python\n",
    "m.setObjective(obj@x, GRB.MAXIMIZE)\n",
    "m.addConstr(A@x <= RHS, name = \"constraint\")\n",
    "```"
   ]
  },
  {
   "cell_type": "code",
   "execution_count": 12,
   "id": "3a3ab077",
   "metadata": {},
   "outputs": [
    {
     "name": "stdout",
     "output_type": "stream",
     "text": [
      "Gurobi Optimizer version 9.5.2 build v9.5.2rc0 (win64)\n",
      "Thread count: 2 physical cores, 4 logical processors, using up to 4 threads\n",
      "Optimize a model with 3 rows, 5 columns and 10 nonzeros\n",
      "Model fingerprint: 0x4dcb802b\n",
      "Coefficient statistics:\n",
      "  Matrix range     [5e-01, 1e+00]\n",
      "  Objective range  [1e-01, 1e-01]\n",
      "  Bounds range     [0e+00, 0e+00]\n",
      "  RHS range        [5e+00, 1e+01]\n",
      "Presolve removed 3 rows and 5 columns\n",
      "Presolve time: 0.01s\n",
      "Presolve: All rows and columns removed\n",
      "Iteration    Objective       Primal Inf.    Dual Inf.      Time\n",
      "       0    1.5360000e+00   0.000000e+00   0.000000e+00      0s\n",
      "\n",
      "Solved in 0 iterations and 0.01 seconds (0.00 work units)\n",
      "Optimal objective  1.536000000e+00\n",
      "Var 1 is: <gurobi.Var C0 (value 3.6)>\n",
      "Var 2 is: <gurobi.Var C1 (value 0.0)>\n",
      "Var 3 is: <gurobi.Var C2 (value 3.6)>\n",
      "Var 4 is: <gurobi.Var C3 (value 4.8)>\n",
      "Var 5 is: <gurobi.Var C4 (value 0.0)>\n"
     ]
    }
   ],
   "source": [
    "#!/usr/bin/python3\n",
    "# -*- coding: utf-8 -*-\n",
    "\n",
    "import numpy as np\n",
    "import gurobipy as gp\n",
    "from gurobipy import GRB\n",
    "\n",
    "m = gp.Model(\"Loan Model\")\n",
    "\n",
    "# create Variable\n",
    "x = m.addMVar(shape=5, vtype=GRB.CONTINUOUS, lb=0)\n",
    "\n",
    "# objective matrix\n",
    "obj = np.array([0.14, 0.13, 0.12, 0.125, 0.1])\n",
    "m.setObjective(obj@x, GRB.MAXIMIZE)\n",
    "\n",
    "# Constraint matrix\n",
    "A = np.matrix([[   1,     1,      1,   1,   1], \n",
    "                       [   0,    0,      0, -1,  -1], \n",
    "                       [0.5, 0.5, -0.5,  0,  0]])\n",
    "\n",
    "RHS = np.array([12, -4.8, 0])\n",
    "\n",
    "m.addConstr(A@x <= RHS)\n",
    "\n",
    "# Solve model\n",
    "m.optimize()\n",
    "\n",
    "\n",
    "for var in range(len(m.getVars())):\n",
    "    print(f\"Var {var+1} is: {m.getVars()[var]}\")"
   ]
  },
  {
   "cell_type": "code",
   "execution_count": null,
   "id": "9b01b195",
   "metadata": {},
   "outputs": [],
   "source": []
  }
 ],
 "metadata": {
  "kernelspec": {
   "display_name": "Python 3 (ipykernel)",
   "language": "python",
   "name": "python3"
  },
  "language_info": {
   "codemirror_mode": {
    "name": "ipython",
    "version": 3
   },
   "file_extension": ".py",
   "mimetype": "text/x-python",
   "name": "python",
   "nbconvert_exporter": "python",
   "pygments_lexer": "ipython3",
   "version": "3.9.10"
  }
 },
 "nbformat": 4,
 "nbformat_minor": 5
}
