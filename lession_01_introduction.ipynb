{
 "cells": [
  {
   "cell_type": "markdown",
   "id": "caa4407c",
   "metadata": {},
   "source": [
    "<h2 style=\"text-align:center; font-family:Vazirmatn;\">\n",
    "    مدل سازی ریاضی در پایتون با استفاده از کتابخانه گروبی\n",
    "</h2>\n",
    "<br>\n"
   ]
  },
  {
   "cell_type": "markdown",
   "id": "afc0457f",
   "metadata": {},
   "source": [
    "<div dir=\"rtl\" style=\"font-family:Vazirmatn; font-weight:300\">\n",
    "    <h3 >نصب گروبی</h3>\n",
    "    <br>\n",
    "   می توان با ایمیل دانشگاهی ترجیحا ایرانی نه! ولی برای وریفای کردن لایسنس نیاز به آی پی دانشگاهی هست که ژاپن معمولا راحت تره\n",
    "    <br>\n",
    "    خود گروبی هم تو پایتون بجز اینکه خود اپلیکیشن یا ترمینالشو یا optimizer نصب کردید کتابخونه اش رو نصب کنید.\n",
    "</div>\n",
    "\n",
    "``` python\n",
    "pip install gurobipy\n",
    "```\n",
    "\n",
    "or\n",
    "\n",
    "``` python\n",
    "python -m pip install gurobipy\n",
    "```"
   ]
  },
  {
   "cell_type": "code",
   "execution_count": 10,
   "id": "02d09324",
   "metadata": {},
   "outputs": [
    {
     "name": "stdout",
     "output_type": "stream",
     "text": [
      "Set parameter Username\n"
     ]
    },
    {
     "ename": "GurobiError",
     "evalue": "Version number is 10.0, license is for version 9.0",
     "output_type": "error",
     "traceback": [
      "\u001b[1;31m---------------------------------------------------------------------------\u001b[0m",
      "\u001b[1;31mGurobiError\u001b[0m                               Traceback (most recent call last)",
      "Input \u001b[1;32mIn [10]\u001b[0m, in \u001b[0;36m<cell line: 3>\u001b[1;34m()\u001b[0m\n\u001b[0;32m      1\u001b[0m \u001b[38;5;28;01mimport\u001b[39;00m \u001b[38;5;21;01mgurobipy\u001b[39;00m \u001b[38;5;28;01mas\u001b[39;00m \u001b[38;5;21;01mgp\u001b[39;00m\n\u001b[1;32m----> 3\u001b[0m m \u001b[38;5;241m=\u001b[39m gp\u001b[38;5;241m.\u001b[39mModel()\n\u001b[0;32m      5\u001b[0m \u001b[38;5;28mprint\u001b[39m(\u001b[38;5;124mf\u001b[39m\u001b[38;5;124m\"\u001b[39m\u001b[38;5;132;01m{\u001b[39;00mm\u001b[38;5;241m.\u001b[39moptimize()\u001b[38;5;132;01m}\u001b[39;00m\u001b[38;5;124m\"\u001b[39m)\n",
      "File \u001b[1;32msrc\\gurobipy\\model.pxi:69\u001b[0m, in \u001b[0;36mgurobipy.Model.__init__\u001b[1;34m()\u001b[0m\n",
      "File \u001b[1;32msrc\\gurobipy\\gurobi.pxi:28\u001b[0m, in \u001b[0;36mgurobipy.gurobi._getdefaultenv\u001b[1;34m()\u001b[0m\n",
      "File \u001b[1;32msrc\\gurobipy\\env.pxi:62\u001b[0m, in \u001b[0;36mgurobipy.Env.__init__\u001b[1;34m()\u001b[0m\n",
      "\u001b[1;31mGurobiError\u001b[0m: Version number is 10.0, license is for version 9.0"
     ]
    }
   ],
   "source": [
    "import gurobipy as gp\n",
    "\n",
    "m = gp.Model()\n",
    "\n",
    "print(f\"{m.optimize()}\")"
   ]
  },
  {
   "cell_type": "code",
   "execution_count": 7,
   "id": "c3b235c4",
   "metadata": {},
   "outputs": [
    {
     "name": "stdout",
     "output_type": "stream",
     "text": [
      "Gurobi Optimizer version 9.5.2 build v9.5.2rc0 (win64)\n",
      "Copyright (c) 2022, Gurobi Optimization, LLC\n"
     ]
    }
   ],
   "source": [
    "!gurobi_cl --version"
   ]
  },
  {
   "cell_type": "code",
   "execution_count": 5,
   "id": "d5e34f88",
   "metadata": {},
   "outputs": [
    {
     "name": "stdout",
     "output_type": "stream",
     "text": [
      "Python 3.9.10\n"
     ]
    }
   ],
   "source": [
    "!python --version"
   ]
  },
  {
   "cell_type": "markdown",
   "id": "eb5811f3",
   "metadata": {},
   "source": [
    "<div dir=\"rtl\" style=\"font-family:Vazirmatn; font-weight:300\">\n",
    "    <h3 >برای کد کردن مدل ریاضی؛</h3>\n",
    "    <br>\n",
    "    1. ابتدا براساس ساختمان داده، پارامترهای مساله را وارد می کنیم. اولویت با آرایه و سپس تاپل هست البته با دانش ظرفیت آرایه ها \n",
    "    <br>\n",
    "    2. متغیرهای تصمیم را وارد می کنیم.\n",
    "    <br>\n",
    "    3. محدودیت یا تابع هدف فرقی ندارد هردو را وارد می کنیم.\n",
    "</div>"
   ]
  },
  {
   "cell_type": "markdown",
   "id": "0559fcd3",
   "metadata": {},
   "source": [
    "<div dir=\"rtl\" style=\"font-family:Vazirmatn; font-weight:300\">\n",
    "    <h3 >مرحله اول مدلسازی؛</h3>\n",
    "    <br>\n",
    "   1. اولین چیزی که باید وارد کنیم ایجاد یک <b>شی</b> است.\n",
    "</div>\n",
    "\n",
    "``` python\n",
    "import gurobipy as gp\n",
    "\n",
    "m = gp.Model(\"simple LP\")\n",
    "```"
   ]
  },
  {
   "cell_type": "markdown",
   "id": "8d72f45e",
   "metadata": {},
   "source": [
    "<div dir=\"rtl\" style=\"font-family:Vazirmatn; font-weight:300\">\n",
    "    <h3 >مرحله دوم مدلسازی؛</h3>\n",
    "    <br>\n",
    "   1. ایجاد آرگومان ها: <b>addVar()</b>\n",
    "    <br>\n",
    "    1.1. <b>vtype:</b> نوع متغیر را تعریف می کند (پیوسته، صفر و یک، عدد صحیح)\n",
    "    <br>\n",
    "    1.2. <b>lb / ub: </b> حد پایین و بالا تعریف میشه که اگر حد بالا گذاشته نشه بی نهایت و پایین گذاشته نشه صفر در نظر گرفته می شه\n",
    "    <br>\n",
    "    1.3. <b>obj:</b> ضرایب تایع هدف را برای هر اندیس متغیر دریافت می کند\n",
    "    <br>\n",
    "    1.4. <b>name:</b> اسم متغیر را دریافت می کند.\n",
    "</div>\n",
    "\n",
    "``` python\n",
    "from gurobipy import GRB\n",
    "\n",
    "x = m.addVar(vtype=GBR.CONTINUOS, lb=0, name=\"Prod_1\")\n",
    "```"
   ]
  },
  {
   "cell_type": "markdown",
   "id": "f3dc7f6d",
   "metadata": {},
   "source": [
    "<div dir=\"rtl\" style=\"font-family:Vazirmatn; font-weight:300\">\n",
    "    <h3 >مرحله سوم مدلسازی؛</h3>\n",
    "    <br>\n",
    "   1. ایجاد محدودیت ها: <b>addConstr()</b>\n",
    "    <br>\n",
    "    1.1. <b>name:</b> اسم محدودیت را دریافت می کند.\n",
    "</div>\n",
    "\n",
    "<div dir=\"rtl\" style=\"font-family:Vazirmatn; font-weight:300\">\n",
    "    <b>نکته:</b> محدودیت باید به صورت عبارت جبری یک طرفه باشه نه دو طرفه.\n",
    "</div>\n",
    "\n",
    "``` python\n",
    "\n",
    "m.addConstr(9*x + 3*y <= 200, name=\"const_1\")\n",
    "```"
   ]
  },
  {
   "cell_type": "markdown",
   "id": "38fa7ab3",
   "metadata": {},
   "source": [
    "<div dir=\"rtl\" style=\"font-family:Vazirmatn; font-weight:300\">\n",
    "    <h3 >مرحله چهارم مدلسازی؛</h3>\n",
    "    <br>\n",
    "   1. ایجاد تابع هدف: <b>setObjective()</b>\n",
    "    <br>\n",
    "    1.1. <b>sence:</b> نوع تابع هدف تعیین میشه\n",
    "</div>\n",
    "\n",
    "<div dir=\"rtl\" style=\"font-family:Vazirmatn; font-weight:300\">\n",
    "    <b>نکته:</b> تابع هدف باید به صورت یک عبارت جبری بدون علایم &gt; = &lt; نوشته بشه\n",
    "</div>\n",
    "\n",
    "``` python\n",
    "# GRB.MAXIMIZE or GRB.MINIMIZE\n",
    "    \n",
    "m.setObjective(9*x + 3*y , GRB.MAXIMIZE)\n",
    "```"
   ]
  },
  {
   "cell_type": "markdown",
   "id": "5692a0de",
   "metadata": {},
   "source": [
    "### Start Simple Code: \n",
    "#### (python == 3.9.1, gurobipy == 10.0.0)"
   ]
  },
  {
   "cell_type": "code",
   "execution_count": 11,
   "id": "edd4dda4",
   "metadata": {},
   "outputs": [
    {
     "name": "stdout",
     "output_type": "stream",
     "text": [
      "Set parameter Username\n"
     ]
    },
    {
     "ename": "GurobiError",
     "evalue": "Version number is 10.0, license is for version 9.0",
     "output_type": "error",
     "traceback": [
      "\u001b[1;31m---------------------------------------------------------------------------\u001b[0m",
      "\u001b[1;31mGurobiError\u001b[0m                               Traceback (most recent call last)",
      "Input \u001b[1;32mIn [11]\u001b[0m, in \u001b[0;36m<cell line: 6>\u001b[1;34m()\u001b[0m\n\u001b[0;32m      3\u001b[0m \u001b[38;5;28;01mimport\u001b[39;00m \u001b[38;5;21;01mgurobipy\u001b[39;00m \u001b[38;5;28;01mas\u001b[39;00m \u001b[38;5;21;01mgp\u001b[39;00m\n\u001b[0;32m      4\u001b[0m \u001b[38;5;28;01mfrom\u001b[39;00m \u001b[38;5;21;01mgurobipy\u001b[39;00m \u001b[38;5;28;01mimport\u001b[39;00m GRB\n\u001b[1;32m----> 6\u001b[0m m \u001b[38;5;241m=\u001b[39m gp\u001b[38;5;241m.\u001b[39mModel(\u001b[38;5;124m\"\u001b[39m\u001b[38;5;124msimple LP\u001b[39m\u001b[38;5;124m\"\u001b[39m)\n\u001b[0;32m      8\u001b[0m x \u001b[38;5;241m=\u001b[39m m\u001b[38;5;241m.\u001b[39maddVar(vtype \u001b[38;5;241m=\u001b[39m GRB\u001b[38;5;241m.\u001b[39mINTEGER, lb \u001b[38;5;241m=\u001b[39m \u001b[38;5;241m0\u001b[39m, name \u001b[38;5;241m=\u001b[39m \u001b[38;5;124m'\u001b[39m\u001b[38;5;124mx\u001b[39m\u001b[38;5;124m'\u001b[39m)\n\u001b[0;32m      9\u001b[0m y \u001b[38;5;241m=\u001b[39m m\u001b[38;5;241m.\u001b[39maddVar(vtype \u001b[38;5;241m=\u001b[39m GRB\u001b[38;5;241m.\u001b[39mINTEGER, lb \u001b[38;5;241m=\u001b[39m \u001b[38;5;241m0\u001b[39m, name \u001b[38;5;241m=\u001b[39m \u001b[38;5;124m'\u001b[39m\u001b[38;5;124my\u001b[39m\u001b[38;5;124m'\u001b[39m)\n",
      "File \u001b[1;32msrc\\gurobipy\\model.pxi:69\u001b[0m, in \u001b[0;36mgurobipy.Model.__init__\u001b[1;34m()\u001b[0m\n",
      "File \u001b[1;32msrc\\gurobipy\\gurobi.pxi:28\u001b[0m, in \u001b[0;36mgurobipy.gurobi._getdefaultenv\u001b[1;34m()\u001b[0m\n",
      "File \u001b[1;32msrc\\gurobipy\\env.pxi:62\u001b[0m, in \u001b[0;36mgurobipy.Env.__init__\u001b[1;34m()\u001b[0m\n",
      "\u001b[1;31mGurobiError\u001b[0m: Version number is 10.0, license is for version 9.0"
     ]
    }
   ],
   "source": [
    "#!/usr/bin/env python\n",
    "\n",
    "import gurobipy as gp\n",
    "from gurobipy import GRB\n",
    "\n",
    "m = gp.Model(\"simple LP\")\n",
    "\n",
    "x = m.addVar(vtype = GRB.INTEGER, lb = 0, name = 'x')\n",
    "y = m.addVar(vtype = GRB.INTEGER, lb = 0, name = 'y')\n",
    "z = m.addVar(vtype = GRB.INTEGER, lb = 0, name = 'z')\n",
    "\n",
    "m.setObjective(x + y + 2*z, GRB.MAXIMIZE)\n",
    "\n",
    "m.addConstr(x + 2*y + 3*z <= 4)\n",
    "m.addConstr(x + y >= 1)\n",
    "\n",
    "m.optimize()"
   ]
  },
  {
   "cell_type": "code",
   "execution_count": null,
   "id": "3386f504",
   "metadata": {},
   "outputs": [],
   "source": []
  }
 ],
 "metadata": {
  "kernelspec": {
   "display_name": "Python 3 (ipykernel)",
   "language": "python",
   "name": "python3"
  },
  "language_info": {
   "codemirror_mode": {
    "name": "ipython",
    "version": 3
   },
   "file_extension": ".py",
   "mimetype": "text/x-python",
   "name": "python",
   "nbconvert_exporter": "python",
   "pygments_lexer": "ipython3",
   "version": "3.9.10"
  }
 },
 "nbformat": 4,
 "nbformat_minor": 5
}
