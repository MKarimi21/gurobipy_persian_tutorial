{
 "cells": [
  {
   "cell_type": "markdown",
   "id": "caa4407c",
   "metadata": {},
   "source": [
    "<h2 style=\"text-align:center; font-family:Vazirmatn;\">\n",
    "    مدل سازی ریاضی در پایتون با استفاده از کتابخانه گروبی\n",
    "</h2>\n",
    "<br>\n"
   ]
  },
  {
   "cell_type": "markdown",
   "id": "afc0457f",
   "metadata": {},
   "source": [
    "<div dir=\"rtl\" style=\"font-family:Vazirmatn; font-weight:300\">\n",
    "    <h3 >نصب گروبی</h3>\n",
    "    <br>\n",
    "   می توان با ایمیل دانشگاهی ترجیحا ایرانی نه! ولی برای وریفای کردن لایسنس نیاز به آی پی دانشگاهی هست که ژاپن معمولا راحت تره\n",
    "    <br>\n",
    "    خود گروبی هم تو پایتون بجز اینکه خود اپلیکیشن یا ترمینالشو یا optimizer نصب کردید کتابخونه اش رو نصب کنید.\n",
    "</div>\n",
    "\n",
    "``` bash\n",
    "pip install gurobipy\n",
    "```\n",
    "\n",
    "or\n",
    "\n",
    "``` bash\n",
    "python -m pip install gurobipy\n",
    "```"
   ]
  },
  {
   "cell_type": "code",
   "execution_count": 4,
   "id": "02d09324",
   "metadata": {},
   "outputs": [
    {
     "name": "stdout",
     "output_type": "stream",
     "text": [
      "Set parameter Username\n"
     ]
    },
    {
     "ename": "GurobiError",
     "evalue": "Version number is 10.0, license is for version 9.0",
     "output_type": "error",
     "traceback": [
      "\u001b[1;31m---------------------------------------------------------------------------\u001b[0m",
      "\u001b[1;31mGurobiError\u001b[0m                               Traceback (most recent call last)",
      "Input \u001b[1;32mIn [4]\u001b[0m, in \u001b[0;36m<cell line: 3>\u001b[1;34m()\u001b[0m\n\u001b[0;32m      1\u001b[0m \u001b[38;5;28;01mimport\u001b[39;00m \u001b[38;5;21;01mgurobipy\u001b[39;00m \u001b[38;5;28;01mas\u001b[39;00m \u001b[38;5;21;01mgp\u001b[39;00m\n\u001b[1;32m----> 3\u001b[0m m \u001b[38;5;241m=\u001b[39m gp\u001b[38;5;241m.\u001b[39mModel(\u001b[38;5;124m\"\u001b[39m\u001b[38;5;124msimple LP\u001b[39m\u001b[38;5;124m\"\u001b[39m)\n\u001b[0;32m      5\u001b[0m \u001b[38;5;28mprint\u001b[39m(\u001b[38;5;124mf\u001b[39m\u001b[38;5;124m\"\u001b[39m\u001b[38;5;132;01m{\u001b[39;00mm\u001b[38;5;241m.\u001b[39moptimize()\u001b[38;5;132;01m}\u001b[39;00m\u001b[38;5;124m\"\u001b[39m)\n",
      "File \u001b[1;32msrc\\gurobipy\\model.pxi:69\u001b[0m, in \u001b[0;36mgurobipy.Model.__init__\u001b[1;34m()\u001b[0m\n",
      "File \u001b[1;32msrc\\gurobipy\\gurobi.pxi:28\u001b[0m, in \u001b[0;36mgurobipy.gurobi._getdefaultenv\u001b[1;34m()\u001b[0m\n",
      "File \u001b[1;32msrc\\gurobipy\\env.pxi:62\u001b[0m, in \u001b[0;36mgurobipy.Env.__init__\u001b[1;34m()\u001b[0m\n",
      "\u001b[1;31mGurobiError\u001b[0m: Version number is 10.0, license is for version 9.0"
     ]
    }
   ],
   "source": [
    "import gurobipy as gp\n",
    "\n",
    "m = gp.Model(\"simple LP\")\n",
    "\n",
    "print(f\"{m.optimize()}\")"
   ]
  },
  {
   "cell_type": "code",
   "execution_count": 8,
   "id": "c3b235c4",
   "metadata": {},
   "outputs": [
    {
     "name": "stdout",
     "output_type": "stream",
     "text": [
      "Gurobi Optimizer version 9.5.2 build v9.5.2rc0 (win64)\n",
      "Copyright (c) 2022, Gurobi Optimization, LLC\n"
     ]
    }
   ],
   "source": [
    "!gurobi_cl --version"
   ]
  },
  {
   "cell_type": "markdown",
   "id": "0559fcd3",
   "metadata": {},
   "source": [
    "<div dir=\"rtl\" style=\"font-family:Vazirmatn; font-weight:300\">\n",
    "    <h3 >برای کد کردن مدل ریاضی؛</h3>\n",
    "    <br>\n",
    "    1. ابتدا براساس ساختمان داده، پارامترهای مساله را وارد می کنیم. اولویت با آرایه و سپس تاپل هست البته با دانش ظرفیت آرایه ها \n",
    "    <br>\n",
    "    2. متغیرهای تصمیم را وارد می کنیم.\n",
    "    <br>\n",
    "    3. محدودیت یا تابع هدف فرقی ندارد هردو را وارد می کنیم.\n",
    "</div>"
   ]
  },
  {
   "cell_type": "markdown",
   "id": "eb5811f3",
   "metadata": {},
   "source": [
    "<div dir=\"rtl\" style=\"font-family:Vazirmatn; font-weight:300\">\n",
    "    <h3 >برای کد کردن مدل ریاضی؛</h3>\n",
    "    <br>\n",
    "    1. ابتدا براساس ساختمان داده، پارامترهای مساله را وارد می کنیم. اولویت با آرایه و سپس تاپل هست البته با دانش ظرفیت آرایه ها \n",
    "    <br>\n",
    "    2. متغیرهای تصمیم را وارد می کنیم.\n",
    "    <br>\n",
    "    3. محدودیت یا تابع هدف فرقی ندارد هردو را وارد می کنیم.\n",
    "</div>"
   ]
  },
  {
   "cell_type": "code",
   "execution_count": null,
   "id": "26f9d98c",
   "metadata": {},
   "outputs": [],
   "source": [
    "pip"
   ]
  },
  {
   "cell_type": "code",
   "execution_count": null,
   "id": "edd4dda4",
   "metadata": {},
   "outputs": [],
   "source": []
  }
 ],
 "metadata": {
  "kernelspec": {
   "display_name": "Python 3 (ipykernel)",
   "language": "python",
   "name": "python3"
  },
  "language_info": {
   "codemirror_mode": {
    "name": "ipython",
    "version": 3
   },
   "file_extension": ".py",
   "mimetype": "text/x-python",
   "name": "python",
   "nbconvert_exporter": "python",
   "pygments_lexer": "ipython3",
   "version": "3.9.10"
  }
 },
 "nbformat": 4,
 "nbformat_minor": 5
}
