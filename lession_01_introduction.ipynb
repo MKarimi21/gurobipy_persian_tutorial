{
 "cells": [
  {
   "cell_type": "markdown",
   "id": "4985db8c",
   "metadata": {},
   "source": [
    "<p style=\"text-align:center; font-family:Vazirmatn; font-weight:300\">\n",
    "    مدل سازی ریاضی در پایتون با استفاده از کتابخانه گروبی\n",
    "</p>"
   ]
  },
  {
   "cell_type": "code",
   "execution_count": null,
   "id": "32bf34d0",
   "metadata": {},
   "outputs": [],
   "source": []
  }
 ],
 "metadata": {
  "kernelspec": {
   "display_name": "Python 3 (ipykernel)",
   "language": "python",
   "name": "python3"
  },
  "language_info": {
   "codemirror_mode": {
    "name": "ipython",
    "version": 3
   },
   "file_extension": ".py",
   "mimetype": "text/x-python",
   "name": "python",
   "nbconvert_exporter": "python",
   "pygments_lexer": "ipython3",
   "version": "3.9.10"
  }
 },
 "nbformat": 4,
 "nbformat_minor": 5
}
